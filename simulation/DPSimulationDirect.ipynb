{
 "cells": [
  {
   "cell_type": "markdown",
   "id": "62e8f9e6",
   "metadata": {},
   "source": [
    "# **Simple integration of DP Langevin equation**"
   ]
  },
  {
   "cell_type": "markdown",
   "id": "5bc36fcd",
   "metadata": {},
   "source": [
    "Run a basic DP simulation."
   ]
  },
  {
   "cell_type": "markdown",
   "id": "2455d206",
   "metadata": {},
   "source": [
    "<hr>\n",
    "\n",
    "## Preliminaries"
   ]
  },
  {
   "cell_type": "code",
   "execution_count": null,
   "id": "92462053",
   "metadata": {},
   "outputs": [],
   "source": [
    "from essentials import *\n",
    "dplvn.__version__"
   ]
  },
  {
   "cell_type": "code",
   "execution_count": null,
   "id": "2c8fbe0f",
   "metadata": {},
   "outputs": [],
   "source": [
    "density_dict: dict[float, NDArray] = {}\n",
    "density_image_dict: dict[int, Any] = {}"
   ]
  },
  {
   "cell_type": "markdown",
   "id": "7893709f",
   "metadata": {},
   "source": [
    "<hr>\n",
    "\n",
    "## Notes"
   ]
  },
  {
   "cell_type": "code",
   "execution_count": null,
   "id": "228c79dc",
   "metadata": {},
   "outputs": [],
   "source": [
    "fetch_image(\"Snippet_Henkel2008_Table4p1_APTScalingRelations.jpg\",)"
   ]
  },
  {
   "cell_type": "code",
   "execution_count": null,
   "id": "0966f207",
   "metadata": {},
   "outputs": [],
   "source": [
    "fetch_image(\"Snippet_Henkel2008_Table4p3_DirectedPercolationScaling.jpg\",)\n"
   ]
  },
  {
   "cell_type": "markdown",
   "id": "e85946f7",
   "metadata": {},
   "source": [
    "<hr>\n",
    "\n",
    "## Parameters"
   ]
  },
  {
   "cell_type": "code",
   "execution_count": null,
   "id": "af30f5e2",
   "metadata": {},
   "outputs": [],
   "source": [
    "random_seed: int = 1\n",
    "# sim_name_: str = \"a1p18855_b1_D0p04_η1_x31_y31_Δx1_Δt0p1\"\n",
    "# sim_name_: str = \"a1p18855_b1_D0p04_η1_x62_y62_Δx1_Δt0p1\"\n",
    "sim_name_: str = \"a1p18855_b1_D0p04_η1_x125_y125_Δx1_Δt0p1\"\n",
    "# sim_name_: str = \"a1p18855_b1_D0p04_η1_x250_y250_Δx1_Δt0p1\"\n",
    "# sim_name_: str = \"a1p18855_b1_D0p04_η1_x500_y500_Δx1_Δt0p1\"\n",
    "# sim_name_: str = \"a1p18855_b1_D0p04_η1_x1000_y1000_Δx1_Δt0p1\"\n",
    "# sim_name_: str = \"a1p18855_b1_D0p04_η1_x2000_y2000_Δx1_Δt0p1\"\n",
    "sim_name = sim_name_ #+ f\"_rs{random_seed}\"\n",
    "sim_name"
   ]
  },
  {
   "cell_type": "code",
   "execution_count": null,
   "id": "7cbf1890",
   "metadata": {},
   "outputs": [],
   "source": [
    "info: dict = import_info(\n",
    "    os.path.join(os.path.pardir, \"experiments\", sim_name,), \n",
    "    \"Info\"\n",
    ")\n",
    "analysis: dict = info[\"Analysis\"]\n",
    "parameters: dict = info[\"Parameters\"]\n",
    "misc: dict = info[\"Misc\"]\n",
    "# if sim_name!=set_name(parameters, analysis,):\n",
    "#     raise NameError"
   ]
  },
  {
   "cell_type": "code",
   "execution_count": null,
   "id": "8a00723b",
   "metadata": {},
   "outputs": [],
   "source": [
    "analysis.update({\n",
    "    \"dp_β\": 0.584,\n",
    "    \"dp_ν_pp\": 0.734,\n",
    "    \"dp_ν_ll\": 1.295,\n",
    "    \"dp_δ\": 0.451,\n",
    "})\n",
    "make_dataframe(analysis)"
   ]
  },
  {
   "cell_type": "code",
   "execution_count": null,
   "id": "44f9f3d4",
   "metadata": {},
   "outputs": [],
   "source": [
    "#   linear=1.18850, quadratic=1, diffusion=0.04, noise=1, dx=1, \n",
    "# linear=1.18900, quadratic=1, diffusion=0.04, noise=1, dx=1, \n",
    "# linear=1.18850, quadratic=1, diffusion=0.01, noise=1, dx=0.5, \n",
    "# linear=2.2140, quadratic=1, diffusion=0.1, noise=2*np.sqrt(2),\n",
    "# linear=1.61, quadratic=1.61, diffusion=0.04, noise=1*1.414,\n",
    "# linear=1.0, quadratic=2.0, diffusion=0.1, noise=1.1564,\n",
    "make_dataframe(parameters)"
   ]
  },
  {
   "cell_type": "code",
   "execution_count": null,
   "id": "c3640b37",
   "metadata": {},
   "outputs": [],
   "source": [
    "misc[\"dplvn_version\"] = dplvn.__version__\n",
    "misc[\"date_time\"] = datetime.now().replace(microsecond=0).isoformat(sep=\" \")\n",
    "make_dataframe(misc)"
   ]
  },
  {
   "cell_type": "markdown",
   "id": "891431fe",
   "metadata": {},
   "source": [
    "<hr>\n",
    "\n",
    "## Simulation"
   ]
  },
  {
   "cell_type": "code",
   "execution_count": null,
   "id": "bd214da0",
   "metadata": {},
   "outputs": [],
   "source": [
    "sim = dplvn.SimDP(**parameters)"
   ]
  },
  {
   "cell_type": "code",
   "execution_count": null,
   "id": "d32656c2",
   "metadata": {},
   "outputs": [],
   "source": [
    "if not sim.initialize(misc[\"n_round_Δt_summation\"]):\n",
    "    raise Exception(\"Failed to initialize sim\")\n",
    "t_epochs: NDArray\n",
    "mean_densities: NDArray\n",
    "analysis[\"n_epochs\"] = sim.get_n_epochs()\n",
    "print(f\"Number of sim epochs = {analysis[\"n_epochs\"]}\")"
   ]
  },
  {
   "cell_type": "code",
   "execution_count": null,
   "id": "2f908b46",
   "metadata": {},
   "outputs": [],
   "source": [
    "def run_sim(n_segments: int=500) -> tuple[NDArray, NDArray]:\n",
    "    n_epochs: int = sim.get_n_epochs()\n",
    "    n_segment_epochs: int = (n_epochs-1) // n_segments\n",
    "    if (n_segment_epochs*n_segments+1)!=n_epochs:\n",
    "        raise Exception(\n",
    "            f\"Failed to segment sim with {n_epochs} epochs \"\n",
    "            + f\"into {n_segments} segment(s)\"\n",
    "        )\n",
    "    t_epoch_: int\n",
    "    i_segment_: int\n",
    "    for i_segment_ in progress(range(0, n_segments+1, 1)):\n",
    "        if i_segment_>0 and not sim.run(n_segment_epochs):\n",
    "            raise Exception(\"Failed to run sim\")\n",
    "        if not sim.postprocess():\n",
    "            raise Exception(\"Failed to process sim results\")\n",
    "        # i_epoch = sim.get_i_current_epoch()\n",
    "        t_epoch_ = sim.get_t_current_epoch()\n",
    "        density_dict[t_epoch_] = sim.get_density()\n",
    "    return (sim.get_t_epochs(), sim.get_mean_densities(),)"
   ]
  },
  {
   "cell_type": "code",
   "execution_count": null,
   "id": "de7a74eb",
   "metadata": {},
   "outputs": [],
   "source": [
    "tick: float = perf_counter()\n",
    "%time (t_epochs, mean_densities,) = run_sim(misc[\"n_segments\"])\n",
    "tock: float = perf_counter()"
   ]
  },
  {
   "cell_type": "code",
   "execution_count": null,
   "id": "65bc5287",
   "metadata": {},
   "outputs": [],
   "source": [
    "misc[\"computation_time\"] = f\"{timedelta(seconds=round(tock-tick))}\"\n",
    "print(f\"Computation time = {misc[\"computation_time\"]}\")"
   ]
  },
  {
   "cell_type": "markdown",
   "id": "4e0af287",
   "metadata": {},
   "source": [
    "<hr>\n",
    "\n",
    "## Plot"
   ]
  },
  {
   "cell_type": "code",
   "execution_count": null,
   "id": "0856744b",
   "metadata": {},
   "outputs": [],
   "source": [
    "graphs = Viz()\n",
    "images = Viz()"
   ]
  },
  {
   "cell_type": "markdown",
   "id": "c284f46c",
   "metadata": {},
   "source": [
    "Plot the time-series of grid-averaged density field:"
   ]
  },
  {
   "cell_type": "code",
   "execution_count": null,
   "id": "e74c5f74",
   "metadata": {},
   "outputs": [],
   "source": [
    "graphs.plot_mean_density_evolution(\n",
    "    set_name(\n",
    "        parameters, analysis, \"ρ_t\", \n",
    "        suffix=f\"_rs{parameters[\"random_seed\"]}\"+\"_loglog\",\n",
    "    ), \n",
    "    parameters, analysis, misc, \n",
    "    t_epochs, mean_densities, \n",
    "    do_rescale=False, y_sf=0.75,\n",
    ")"
   ]
  },
  {
   "cell_type": "code",
   "execution_count": null,
   "id": "e1463006",
   "metadata": {},
   "outputs": [],
   "source": [
    "graphs.plot_mean_density_evolution(\n",
    "    set_name(parameters, analysis, \"ρ_t\",\n",
    "             suffix=f\"_rs{parameters[\"random_seed\"]}\"+\"_rescaled\",),\n",
    "    parameters, analysis, misc,\n",
    "    t_epochs, mean_densities, \n",
    "    do_rescale=True,\n",
    ")"
   ]
  },
  {
   "cell_type": "code",
   "execution_count": null,
   "id": "d3727468",
   "metadata": {},
   "outputs": [],
   "source": [
    "# graphs.plot_mean_density_evolution(\n",
    "#     set_name(parameters, analysis, \"ρ_t\", \"_linear\"), \n",
    "#     parameters, results, misc,\n",
    "#     t_epochs, mean_densities, \n",
    "#     do_loglog=False, do_rescale=False, y_sf=0.75,\n",
    "# )"
   ]
  },
  {
   "cell_type": "markdown",
   "id": "556c4202",
   "metadata": {},
   "source": [
    "Plot image grids of density field time-slices:"
   ]
  },
  {
   "cell_type": "code",
   "execution_count": null,
   "id": "c167a028",
   "metadata": {},
   "outputs": [],
   "source": [
    "n_digits: int = misc[\"n_digits\"]\n",
    "name_: str \n",
    "density_: NDArray\n",
    "for i_epoch_, t_epoch_ in progress(enumerate(density_dict.keys())):\n",
    "    name_ =  f\"ρ_t{t_epoch_:0{n_digits}.1f}\".replace(\".\",\"p\")\n",
    "    # print(i_epoch_, t_epoch_, name_)\n",
    "    density_ = density_dict[t_epoch_]\n",
    "    density_image_dict[i_epoch_] = images.plot_density_image(\n",
    "        name_, \n",
    "        parameters, \n",
    "        analysis,\n",
    "        t_epoch_, \n",
    "        density_, \n",
    "        density_max=3,\n",
    "        tick_Δρ=1,\n",
    "        do_extend_if_periodic=False,\n",
    "        n_digits=n_digits,\n",
    "    )"
   ]
  },
  {
   "cell_type": "markdown",
   "id": "9c854e11",
   "metadata": {},
   "source": [
    "<hr>\n",
    "\n",
    "## Save"
   ]
  },
  {
   "cell_type": "code",
   "execution_count": null,
   "id": "64e4031b",
   "metadata": {},
   "outputs": [],
   "source": [
    "sim_dir_name: str = sim_name\n",
    "\n",
    "outfo: dict = {\n",
    "    \"Parameters\" : parameters,\n",
    "    \"Analysis\" : analysis,\n",
    "    \"Misc\" : misc\n",
    "}\n",
    "serializable_outfo: dict\n",
    "(serializable_outfo, _,) = export_info(\n",
    "    create_directories((os.path.pardir, \"experiments\",), sim_dir_name,), \n",
    "    \"Outfo\", outfo, \n",
    ")\n",
    "pp(serializable_outfo)"
   ]
  },
  {
   "cell_type": "code",
   "execution_count": null,
   "id": "0b0fd1a3",
   "metadata": {},
   "outputs": [],
   "source": [
    "graphs_path: str = export_plots(\n",
    "    graphs.fdict, \n",
    "    create_directories(\n",
    "        (os.path.pardir, \"experiments\", sim_dir_name,), \n",
    "        \"Graphs\",\n",
    "    ),\n",
    ")"
   ]
  },
  {
   "cell_type": "code",
   "execution_count": null,
   "id": "2b833768",
   "metadata": {},
   "outputs": [],
   "source": [
    "data_path: str = create_directories(\n",
    "    (os.path.pardir,\"experiments\", sim_dir_name,), \"Data\", do_clean=False,\n",
    ")\n",
    "np.savez_compressed(\n",
    "    os.path.join(data_path, \"ρ_t\"+f\"_rs{parameters[\"random_seed\"]}\"), \n",
    "    t_epochs=t_epochs,\n",
    "    mean_densities=mean_densities,\n",
    ")"
   ]
  },
  {
   "cell_type": "code",
   "execution_count": null,
   "id": "0104f794",
   "metadata": {},
   "outputs": [],
   "source": [
    "data_npz: NpzFile = np.load(\n",
    "    os.path.join(data_path, \"ρ_t\"+f\"_rs{parameters[\"random_seed\"]}\"+\".npz\"), \n",
    ")\n",
    "data_npz[\"t_epochs\"][-10:], data_npz[\"mean_densities\"][-10:]"
   ]
  },
  {
   "cell_type": "code",
   "execution_count": null,
   "id": "16c8108a",
   "metadata": {},
   "outputs": [],
   "source": [
    "if \"do_export_images\" in misc and misc[\"do_export_images\"]:\n",
    "    images_path: str = export_plots(\n",
    "        images.fdict, \n",
    "        create_directories(\n",
    "            (os.path.pardir,\"experiments\", sim_dir_name,), \n",
    "            \"Images\", do_clean=True,\n",
    "        ),\n",
    "    )\n",
    "    print(images_path)"
   ]
  },
  {
   "cell_type": "code",
   "execution_count": null,
   "id": "0a77871d",
   "metadata": {},
   "outputs": [],
   "source": [
    "if \"do_make_video\" in misc and misc[\"do_make_video\"]:\n",
    "    videos_path: str = create_directories(\n",
    "        (os.path.pardir,\"experiments\", sim_dir_name,), \"Videos\",\n",
    "    )\n",
    "\n",
    "    video_frame_rate: int = misc[\"video_frame_rate\"]\n",
    "    video_format: str = misc[\"video_format\"]\n",
    "    video_images_wildcard: str = \"ρ_t\"+\"?\"*n_digits+\".png\"\n",
    "    input = ffmpeg.input( \n",
    "        os.path.join(images_path, video_images_wildcard), \n",
    "        pattern_type=\"glob\", \n",
    "        framerate=video_frame_rate, \n",
    "        pix_fmt=\"yuv420p\",\n",
    "    )\n",
    "    output = ffmpeg.output(\n",
    "        input.video,\n",
    "        os.path.join(\n",
    "            videos_path, \n",
    "            f\"ρ_{sim_dir_name}_rs{parameters[\"random_seed\"]}.{video_format}\"\n",
    "        ),\n",
    "        vf=\"crop=floor(iw/2)*2:floor(ih/2)*2\",\n",
    "        vcodec=\"libx264\",\n",
    "        format=video_format,\n",
    "    )"
   ]
  },
  {
   "cell_type": "code",
   "execution_count": null,
   "id": "c9a8366d",
   "metadata": {},
   "outputs": [],
   "source": [
    "if \"do_make_video\" in misc and misc[\"do_make_video\"]:\n",
    "    stderr_output: str = output.overwrite_output().run(capture_stderr=True,)\n",
    "    # print(stderr_output)"
   ]
  }
 ],
 "metadata": {
  "kernelspec": {
   "display_name": "lvn.dp3p12",
   "language": "python",
   "name": "python3"
  },
  "language_info": {
   "codemirror_mode": {
    "name": "ipython",
    "version": 3
   },
   "file_extension": ".py",
   "mimetype": "text/x-python",
   "name": "python",
   "nbconvert_exporter": "python",
   "pygments_lexer": "ipython3",
   "version": "3.12.11"
  }
 },
 "nbformat": 4,
 "nbformat_minor": 5
}
