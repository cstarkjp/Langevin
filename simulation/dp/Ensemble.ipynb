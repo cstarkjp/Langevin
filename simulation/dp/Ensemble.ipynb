{
 "cells": [
  {
   "cell_type": "markdown",
   "id": "62e8f9e6",
   "metadata": {},
   "source": [
    "# **Ensemble (multisim) DP integration**"
   ]
  },
  {
   "cell_type": "markdown",
   "id": "5bc36fcd",
   "metadata": {},
   "source": [
    "Run a bunch of DP Langevin equation integrations as part of the process of checking that we get true DP scaling behavior."
   ]
  },
  {
   "cell_type": "markdown",
   "id": "2455d206",
   "metadata": {},
   "source": [
    "<hr>\n",
    "\n",
    "## Preliminaries"
   ]
  },
  {
   "cell_type": "code",
   "execution_count": 1,
   "id": "92462053",
   "metadata": {},
   "outputs": [
    {
     "data": {
      "text/plain": [
       "'2025.10.25a2'"
      ]
     },
     "execution_count": 1,
     "metadata": {},
     "output_type": "execute_result"
    }
   ],
   "source": [
    "from essentials import *\n",
    "dplvn.__version__"
   ]
  },
  {
   "cell_type": "markdown",
   "id": "87438473",
   "metadata": {},
   "source": [
    "<hr>\n",
    "\n",
    "## Choice"
   ]
  },
  {
   "cell_type": "code",
   "execution_count": 2,
   "id": "4de818c1",
   "metadata": {},
   "outputs": [],
   "source": [
    "# a_critical: str\n",
    "# ensemble_name: str\n",
    "# if len(sys.argv) > 2:\n",
    "#     a_critical = sys.argv[1]\n",
    "#     ensemble_name = sys.argv[2]\n",
    "#     print(f\"DPEnsemble: running job in {a_critical}/{ensemble_name}\")\n",
    "# else:\n",
    "\n",
    "a_critical = \"ac1p18857\"\n",
    "# ensemble_name = \"b1_D0p04_η1_x31_y31_Δx1_Δt0p1\"\n",
    "# ensemble_name = \"b1_D0p04_η1_x62_y62_Δx1_Δt0p1\"\n",
    "# ensemble_name = \"b1_D0p04_η1_x125_y125_Δx1_Δt0p1\"\n",
    "# ensemble_name = \"b1_D0p04_η1_x250_y250_Δx1_Δt0p1\"\n",
    "# ensemble_name = \"b1_D0p04_η1_x500_y500_Δx1_Δt0p1\"\n",
    "# ensemble_name = \"b1_D0p04_η1_x1000_y1000_Δx1_Δt0p1\"\n",
    "ensemble_name = \"b1_D0p04_η1_x2000_y2000_Δx1_Δt0p1\"\n",
    "\n"
   ]
  },
  {
   "cell_type": "markdown",
   "id": "c14e2355",
   "metadata": {},
   "source": [
    "<hr>\n",
    "\n",
    "## Simulation"
   ]
  },
  {
   "cell_type": "code",
   "execution_count": 3,
   "id": "1f94234e",
   "metadata": {},
   "outputs": [],
   "source": [
    "info_path: list[str] = [pardir, \"experiments\", a_critical, ensemble_name]\n",
    "do_verbose: bool = True"
   ]
  },
  {
   "cell_type": "code",
   "execution_count": 4,
   "id": "d0cc5e78",
   "metadata": {},
   "outputs": [
    {
     "name": "stdout",
     "output_type": "stream",
     "text": [
      "Ensemble results path:  ['..', 'experiments', 'ac1p18857', 'b1_D0p04_η1_x2000_y2000_Δx1_Δt0p1']\n",
      "a: [1.19857, 1.19714, 1.19571, 1.19428, 1.19286, 1.19143, 1.19, 1.18857, 1.18714, 1.18571, 1.18428, 1.18286, 1.18143, 1.18, 1.17857]\n",
      "b: [1, 1, 1, 1, 1, 1, 1, 1, 1, 1, 1, 1, 1, 1, 1]\n",
      "seeds: [1, 2, 3, 4, 5, 6, 7, 8, 9, 10, 11, 12, 13, 14, 15]\n"
     ]
    }
   ],
   "source": [
    "ensemble = Ensemble(info_path, do_verbose,)"
   ]
  },
  {
   "cell_type": "code",
   "execution_count": 5,
   "id": "f0de34dd",
   "metadata": {},
   "outputs": [
    {
     "data": {
      "text/plain": [
       "{'n_sims': 15,\n",
       " 'Δa_range': 0.01,\n",
       " 'n_round_Δt_summation': 5,\n",
       " 'n_segments': 500,\n",
       " 'n_digits': 6,\n",
       " 'do_export_combo_graphs': True,\n",
       " 'do_export_combo_data': True,\n",
       " 'do_export_graphs': False,\n",
       " 'do_export_data': False,\n",
       " 'do_export_images': False,\n",
       " 'do_make_video': False,\n",
       " 'ylimits_log': [0.0005, 2.0],\n",
       " 'xlimits_log': [0.5, 12000.0],\n",
       " 'ylimits_rescaled': [0.03, 10.0],\n",
       " 'xlimits_rescaled': [5e-05, 2000.0],\n",
       " 'video_frame_rate': 50,\n",
       " 'video_format': 'mp4',\n",
       " 'path': ['..',\n",
       "  'experiments',\n",
       "  'ac1p18857',\n",
       "  'b1_D0p04_η1_x2000_y2000_Δx1_Δt0p1'],\n",
       " 'n_cores': 16}"
      ]
     },
     "execution_count": 5,
     "metadata": {},
     "output_type": "execute_result"
    }
   ],
   "source": [
    "ensemble.info[\"Misc\"]"
   ]
  },
  {
   "cell_type": "code",
   "execution_count": 6,
   "id": "e58ddfcd",
   "metadata": {},
   "outputs": [
    {
     "name": "stdout",
     "output_type": "stream",
     "text": [
      "Simulation#1 path:  ['..', 'experiments', 'ac1p18857', 'b1_D0p04_η1_x2000_y2000_Δx1_Δt0p1', 'a1p19857']\n",
      "Simulation#2 path:  ['..', 'experiments', 'ac1p18857', 'b1_D0p04_η1_x2000_y2000_Δx1_Δt0p1', 'a1p19714']\n",
      "Simulation#3 path:  ['..', 'experiments', 'ac1p18857', 'b1_D0p04_η1_x2000_y2000_Δx1_Δt0p1', 'a1p19571']\n",
      "Simulation#4 path:  ['..', 'experiments', 'ac1p18857', 'b1_D0p04_η1_x2000_y2000_Δx1_Δt0p1', 'a1p19428']\n",
      "Simulation#5 path:  ['..', 'experiments', 'ac1p18857', 'b1_D0p04_η1_x2000_y2000_Δx1_Δt0p1', 'a1p19286']\n",
      "Simulation#6 path:  ['..', 'experiments', 'ac1p18857', 'b1_D0p04_η1_x2000_y2000_Δx1_Δt0p1', 'a1p19143']\n",
      "Simulation#7 path:  ['..', 'experiments', 'ac1p18857', 'b1_D0p04_η1_x2000_y2000_Δx1_Δt0p1', 'a1p19000']\n",
      "Simulation#8 path:  ['..', 'experiments', 'ac1p18857', 'b1_D0p04_η1_x2000_y2000_Δx1_Δt0p1', 'a1p18857']\n",
      "Simulation#9 path:  ['..', 'experiments', 'ac1p18857', 'b1_D0p04_η1_x2000_y2000_Δx1_Δt0p1', 'a1p18714']\n",
      "Simulation#10 path:  ['..', 'experiments', 'ac1p18857', 'b1_D0p04_η1_x2000_y2000_Δx1_Δt0p1', 'a1p18571']\n",
      "Simulation#11 path:  ['..', 'experiments', 'ac1p18857', 'b1_D0p04_η1_x2000_y2000_Δx1_Δt0p1', 'a1p18428']\n",
      "Simulation#12 path:  ['..', 'experiments', 'ac1p18857', 'b1_D0p04_η1_x2000_y2000_Δx1_Δt0p1', 'a1p18286']\n",
      "Simulation#13 path:  ['..', 'experiments', 'ac1p18857', 'b1_D0p04_η1_x2000_y2000_Δx1_Δt0p1', 'a1p18143']\n",
      "Simulation#14 path:  ['..', 'experiments', 'ac1p18857', 'b1_D0p04_η1_x2000_y2000_Δx1_Δt0p1', 'a1p18000']\n",
      "Simulation#15 path:  ['..', 'experiments', 'ac1p18857', 'b1_D0p04_η1_x2000_y2000_Δx1_Δt0p1', 'a1p17857']\n"
     ]
    }
   ],
   "source": [
    "ensemble.create()"
   ]
  },
  {
   "cell_type": "code",
   "execution_count": null,
   "id": "f4caa31f",
   "metadata": {},
   "outputs": [
    {
     "name": "stdout",
     "output_type": "stream",
     "text": [
      "linear: 1.19857\n",
      "quadratic: 1\n",
      "diffusion: 0.04\n",
      "noise: 1\n",
      "\n",
      "t_final: 10000\n",
      "dx: 1\n",
      "dt: 0.1\n",
      "\n",
      "random_seed: 1\n",
      "grid_dimension: 2d\n",
      "grid_size: 2000 2000 \n",
      "n_cells: 4000000\n",
      "grid_topologies: x edge:bounded; y edge:bounded\n",
      "boundary_conditions: x0 edge:floating, x1 edge:floating; y0 edge:floating, y1 edge:floating\n",
      "bc_values: 0 0 0 0 \n",
      "initial_condition: uniform random values\n",
      "ic_values: 0 10 \n",
      "integration_method: Runge-Kutta\n"
     ]
    },
    {
     "name": "stderr",
     "output_type": "stream",
     "text": [
      " 19%|\u001b[32m███████                              \u001b[0m| 96/501 [1:41:50<7:14:18, 64.34s/it]\u001b[0m"
     ]
    }
   ],
   "source": [
    "ensemble.exec()"
   ]
  },
  {
   "cell_type": "code",
   "execution_count": null,
   "id": "ece68059",
   "metadata": {},
   "outputs": [],
   "source": [
    "print(\"Computation times:\")\n",
    "for sim_ in ensemble.sim_list:\n",
    "    print(f\"{sim_.misc[\"name\"]}: {sim_.misc[\"computation_time\"]}\")"
   ]
  },
  {
   "cell_type": "markdown",
   "id": "527692a1",
   "metadata": {},
   "source": [
    "<hr>\n",
    "\n",
    "## Post-processing"
   ]
  },
  {
   "cell_type": "code",
   "execution_count": null,
   "id": "3f3b9f7b",
   "metadata": {},
   "outputs": [],
   "source": [
    "ensemble.multi_plot()\n",
    "display(ensemble.graphs.fdict[\"ρ_t_loglog\"])\n",
    "display(ensemble.graphs.fdict[\"ρ_t_rescaled\"])"
   ]
  },
  {
   "cell_type": "code",
   "execution_count": null,
   "id": "e2d6a86c",
   "metadata": {},
   "outputs": [],
   "source": [
    "ensemble.plot()"
   ]
  },
  {
   "cell_type": "code",
   "execution_count": null,
   "id": "ed274b27",
   "metadata": {},
   "outputs": [],
   "source": [
    "ensemble.save(dplvn, do_dummy=False)"
   ]
  }
 ],
 "metadata": {
  "kernelspec": {
   "display_name": "lvn3p14",
   "language": "python",
   "name": "python3"
  },
  "language_info": {
   "codemirror_mode": {
    "name": "ipython",
    "version": 3
   },
   "file_extension": ".py",
   "mimetype": "text/x-python",
   "name": "python",
   "nbconvert_exporter": "python",
   "pygments_lexer": "ipython3",
   "version": "3.14.0"
  }
 },
 "nbformat": 4,
 "nbformat_minor": 5
}
