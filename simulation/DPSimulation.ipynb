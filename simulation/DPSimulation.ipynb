{
 "cells": [
  {
   "cell_type": "markdown",
   "id": "9ce11985",
   "metadata": {},
   "source": [
    "# **Simple integration of DP Langevin equation**"
   ]
  },
  {
   "cell_type": "markdown",
   "id": "5bc36fcd",
   "metadata": {},
   "source": [
    "Run a basic DP simulation."
   ]
  },
  {
   "cell_type": "markdown",
   "id": "2455d206",
   "metadata": {},
   "source": [
    "<hr>\n",
    "\n",
    "## Preliminaries"
   ]
  },
  {
   "cell_type": "code",
   "execution_count": null,
   "id": "92462053",
   "metadata": {},
   "outputs": [],
   "source": [
    "from essentials import *\n",
    "dplvn.__version__"
   ]
  },
  {
   "cell_type": "markdown",
   "id": "87438473",
   "metadata": {},
   "source": [
    "<hr>\n",
    "\n",
    "## Simulation"
   ]
  },
  {
   "cell_type": "code",
   "execution_count": null,
   "id": "22780da9",
   "metadata": {},
   "outputs": [],
   "source": [
    "sim_name: str = \"a1p18855_b1_D0p04_η1_x31_y31_Δx1_Δt0p1\"\n",
    "info_path: list[str] = [\"experiments\", sim_name]\n",
    "info: dict\n",
    "_, info = read_info(info_path)\n"
   ]
  },
  {
   "cell_type": "code",
   "execution_count": null,
   "id": "a44aedfb",
   "metadata": {},
   "outputs": [],
   "source": [
    "sim = Simulation(name=sim_name, path=info_path, info=info, do_verbose=True,)\n",
    "#  \"a1p18855_b1_D0p04_η1_x62_y62_Δx1_Δt0p1\"\n",
    "#  \"a1p18855_b1_D0p04_η1_x125_y125_Δx1_Δt0p1\"\n",
    "#  \"a1p18855_b1_D0p04_η1_x250_y250_Δx1_Δt0p1\"\n",
    "#  \"a1p18855_b1_D0p04_η1_x500_y500_Δx1_Δt0p1\"\n",
    "#  \"a1p18855_b1_D0p04_η1_x1000_y1000_Δx1_Δt0p1\"\n",
    "#  \"a1p18855_b1_D0p04_η1_x2000_y2000_Δx1_Δt0p1\"\n",
    "sim.misc[\"name\"]"
   ]
  },
  {
   "cell_type": "code",
   "execution_count": null,
   "id": "e58ddfcd",
   "metadata": {},
   "outputs": [],
   "source": [
    "sim.initialize()"
   ]
  },
  {
   "cell_type": "code",
   "execution_count": null,
   "id": "2e8c73a1",
   "metadata": {},
   "outputs": [],
   "source": [
    "sim.analysis[\"n_epochs\"]"
   ]
  },
  {
   "cell_type": "code",
   "execution_count": null,
   "id": "cf7efea9",
   "metadata": {},
   "outputs": [],
   "source": [
    "sim.run()"
   ]
  },
  {
   "cell_type": "markdown",
   "id": "3ea7df15",
   "metadata": {},
   "source": [
    "<hr>\n",
    "\n",
    "## Post-processing"
   ]
  },
  {
   "cell_type": "code",
   "execution_count": null,
   "id": "7953ffe6",
   "metadata": {},
   "outputs": [],
   "source": [
    "display(sim.graphs.fdict[\"ρ_t_loglog\"])"
   ]
  },
  {
   "cell_type": "code",
   "execution_count": null,
   "id": "d74e1a55",
   "metadata": {},
   "outputs": [],
   "source": [
    "sim.plot()"
   ]
  },
  {
   "cell_type": "code",
   "execution_count": null,
   "id": "7ecc9485",
   "metadata": {},
   "outputs": [],
   "source": [
    "sim.save()"
   ]
  }
 ],
 "metadata": {
  "kernelspec": {
   "display_name": "lvn.dp3p12",
   "language": "python",
   "name": "python3"
  },
  "language_info": {
   "codemirror_mode": {
    "name": "ipython",
    "version": 3
   },
   "file_extension": ".py",
   "mimetype": "text/x-python",
   "name": "python",
   "nbconvert_exporter": "python",
   "pygments_lexer": "ipython3",
   "version": "3.12.11"
  }
 },
 "nbformat": 4,
 "nbformat_minor": 5
}
