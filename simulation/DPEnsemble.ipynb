{
 "cells": [
  {
   "cell_type": "markdown",
   "id": "62e8f9e6",
   "metadata": {},
   "source": [
    "# **Ensemble (multisim) DP integration**"
   ]
  },
  {
   "cell_type": "markdown",
   "id": "5bc36fcd",
   "metadata": {},
   "source": [
    "Run a bunch of DP Langevin equation integrations as part of the process of checking that we get true DP scaling behavior."
   ]
  },
  {
   "cell_type": "markdown",
   "id": "2455d206",
   "metadata": {},
   "source": [
    "<hr>\n",
    "\n",
    "## Preliminaries"
   ]
  },
  {
   "cell_type": "code",
   "execution_count": null,
   "id": "92462053",
   "metadata": {},
   "outputs": [],
   "source": [
    "from essentials import *\n",
    "dplvn.__version__"
   ]
  },
  {
   "cell_type": "markdown",
   "id": "87438473",
   "metadata": {},
   "source": [
    "<hr>\n",
    "\n",
    "## Choice"
   ]
  },
  {
   "cell_type": "code",
   "execution_count": null,
   "id": "4de818c1",
   "metadata": {},
   "outputs": [],
   "source": [
    "# a_critical: str\n",
    "# ensemble_name: str\n",
    "# if len(sys.argv) > 2:\n",
    "#     a_critical = sys.argv[1]\n",
    "#     ensemble_name = sys.argv[2]\n",
    "#     print(f\"DPEnsemble: running job in {a_critical}/{ensemble_name}\")\n",
    "# else:\n",
    "\n",
    "a_critical = \"ac1p18857\"\n",
    "ensemble_name = \"b1_D0p04_η1_x31_y31_Δx1_Δt0p1\"\n",
    "# ensemble_name = \"b1_D0p04_η1_x62_y62_Δx1_Δt0p1\"\n",
    "# ensemble_name = \"b1_D0p04_η1_x125_y125_Δx1_Δt0p1\"\n",
    "# ensemble_name = \"b1_D0p04_η1_x250_y250_Δx1_Δt0p1\"\n",
    "# ensemble_name = \"b1_D0p04_η1_x500_y500_Δx1_Δt0p1\"\n",
    "# ensemble_name = \"b1_D0p04_η1_x1000_y1000_Δx1_Δt0p1\"\n",
    "# ensemble_name = \"b1_D0p04_η1_x2000_y2000_Δx1_Δt0p1\"\n",
    "\n"
   ]
  },
  {
   "cell_type": "markdown",
   "id": "c14e2355",
   "metadata": {},
   "source": [
    "<hr>\n",
    "\n",
    "## Simulation"
   ]
  },
  {
   "cell_type": "code",
   "execution_count": null,
   "id": "1f94234e",
   "metadata": {},
   "outputs": [],
   "source": [
    "info_path: list[str] = [\"experiments\", a_critical, ensemble_name]\n",
    "do_verbose: bool = True"
   ]
  },
  {
   "cell_type": "code",
   "execution_count": null,
   "id": "d0cc5e78",
   "metadata": {},
   "outputs": [],
   "source": [
    "ensemble = Ensemble(info_path, do_verbose,)"
   ]
  },
  {
   "cell_type": "code",
   "execution_count": null,
   "id": "f0de34dd",
   "metadata": {},
   "outputs": [],
   "source": [
    "ensemble.info[\"Misc\"]"
   ]
  },
  {
   "cell_type": "code",
   "execution_count": null,
   "id": "e58ddfcd",
   "metadata": {},
   "outputs": [],
   "source": [
    "ensemble.create()"
   ]
  },
  {
   "cell_type": "code",
   "execution_count": null,
   "id": "f4caa31f",
   "metadata": {},
   "outputs": [],
   "source": [
    "ensemble.exec()"
   ]
  },
  {
   "cell_type": "code",
   "execution_count": null,
   "id": "ece68059",
   "metadata": {},
   "outputs": [],
   "source": [
    "print(\"Computation times:\")\n",
    "for sim_ in ensemble.sim_list:\n",
    "    print(f\"{sim_.misc[\"name\"]}: {sim_.misc[\"computation_time\"]}\")"
   ]
  },
  {
   "cell_type": "markdown",
   "id": "527692a1",
   "metadata": {},
   "source": [
    "<hr>\n",
    "\n",
    "## Post-processing"
   ]
  },
  {
   "cell_type": "code",
   "execution_count": null,
   "id": "3f3b9f7b",
   "metadata": {},
   "outputs": [],
   "source": [
    "ensemble.multi_plot()\n",
    "display(ensemble.graphs.fdict[\"ρ_t_loglog\"])\n",
    "display(ensemble.graphs.fdict[\"ρ_t_rescaled\"])"
   ]
  },
  {
   "cell_type": "code",
   "execution_count": null,
   "id": "e2d6a86c",
   "metadata": {},
   "outputs": [],
   "source": [
    "ensemble.plot()"
   ]
  },
  {
   "cell_type": "code",
   "execution_count": null,
   "id": "ed274b27",
   "metadata": {},
   "outputs": [],
   "source": [
    "ensemble.save()"
   ]
  }
 ],
 "metadata": {
  "kernelspec": {
   "display_name": "lvn.dp3p12",
   "language": "python",
   "name": "python3"
  },
  "language_info": {
   "codemirror_mode": {
    "name": "ipython",
    "version": 3
   },
   "file_extension": ".py",
   "mimetype": "text/x-python",
   "name": "python",
   "nbconvert_exporter": "python",
   "pygments_lexer": "ipython3",
   "version": "3.12.11"
  }
 },
 "nbformat": 4,
 "nbformat_minor": 5
}
